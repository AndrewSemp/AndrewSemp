{
  "nbformat": 4,
  "nbformat_minor": 0,
  "metadata": {
    "colab": {
      "provenance": [],
      "authorship_tag": "ABX9TyO4JCCmlNljOsjarNL1OyVU",
      "include_colab_link": true
    },
    "kernelspec": {
      "name": "python3",
      "display_name": "Python 3"
    },
    "language_info": {
      "name": "python"
    }
  },
  "cells": [
    {
      "cell_type": "markdown",
      "metadata": {
        "id": "view-in-github",
        "colab_type": "text"
      },
      "source": [
        "<a href=\"https://colab.research.google.com/github/AndrewSemp/AndrewSemp/blob/main/Untitled6.ipynb\" target=\"_parent\"><img src=\"https://colab.research.google.com/assets/colab-badge.svg\" alt=\"Open In Colab\"/></a>"
      ]
    },
    {
      "cell_type": "code",
      "execution_count": 8,
      "metadata": {
        "colab": {
          "base_uri": "https://localhost:8080/"
        },
        "id": "A8STytrFORcF",
        "outputId": "cb25f6bc-1eca-4df9-bed0-3b8f6b3d84b5"
      },
      "outputs": [
        {
          "output_type": "stream",
          "name": "stdout",
          "text": [
            "Digite o valor do coeficiente : 1\n",
            "Digite o valor do coeficiente : 5\n",
            "Digite o valor do coeficiente : 6\n",
            "A Equação possui as Raizes:-3.0,-3.0\n"
          ]
        }
      ],
      "source": [
        "def entrada_dados():\n",
        "  coeficiente = quantidade = eval(input('Digite o valor do coeficiente : '))\n",
        "  return coeficiente\n",
        "\n",
        "\n",
        "def calc_delta(a,b,c):\n",
        "  delta=b*b-4*a*c\n",
        "  return delta\n",
        "\n",
        "import numpy as np\n",
        "def calcular_raizes(a,b,c,delta):\n",
        "  if(delta<0):\n",
        "    resultado = 'A equação não possui raizes nos numeros Reais.'\n",
        "  elif(delta==0):\n",
        "    x=-b/(2*a)\n",
        "    resultado = f'A equação possui apenas a Raiz {x}'\n",
        "  else:\n",
        "    x1=(-b-np.sqrt(delta))/(2*a)\n",
        "    x2=(-b-np.sqrt(delta))/(2*a)\n",
        "    resultado = f'A Equação possui as Raizes:{x1},{x2}'\n",
        "  return resultado\n",
        "\n",
        "a=entrada_dados()\n",
        "b=entrada_dados()\n",
        "c=entrada_dados()\n",
        "\n",
        "delta = calc_delta(a,b,c)\n",
        "\n",
        "resultado = calcular_raizes(a,b,c,delta)\n",
        "print(resultado)"
      ]
    }
  ]
}