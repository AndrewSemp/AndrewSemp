{
  "nbformat": 4,
  "nbformat_minor": 0,
  "metadata": {
    "colab": {
      "provenance": [],
      "authorship_tag": "ABX9TyOthxyYdPNPl4egl2KHRw9w",
      "include_colab_link": true
    },
    "kernelspec": {
      "name": "python3",
      "display_name": "Python 3"
    },
    "language_info": {
      "name": "python"
    }
  },
  "cells": [
    {
      "cell_type": "markdown",
      "metadata": {
        "id": "view-in-github",
        "colab_type": "text"
      },
      "source": [
        "<a href=\"https://colab.research.google.com/github/AndrewSemp/AndrewSemp/blob/main/Untitled5.ipynb\" target=\"_parent\"><img src=\"https://colab.research.google.com/assets/colab-badge.svg\" alt=\"Open In Colab\"/></a>"
      ]
    },
    {
      "cell_type": "code",
      "source": [
        "#ESTRATEGIA 01\n",
        "def fatorial_interativo(n):\n",
        "  f=1\n",
        "  for i in range(1,n+1):\n",
        "    f=f*i\n",
        "  return f\n",
        "#ESTRATEGIA 02\n",
        "def fatorial_recursivo(n):\n",
        "  if((n==0)or(n==1)):\n",
        "    return 1\n",
        "  return n*fatorial_recursivo(n-1)\n",
        "\n",
        "numero = 5\n",
        "print(f'O fatorial de {numero} é :{fatorial_interativo(numero)}')\n",
        "print(f'O fatorial de {numero} é :{fatorial_recursivo(numero)}')"
      ],
      "metadata": {
        "colab": {
          "base_uri": "https://localhost:8080/"
        },
        "id": "3RpWLh9fo75K",
        "outputId": "954bbe34-aad7-4a67-b214-abb00088d3ab"
      },
      "execution_count": 17,
      "outputs": [
        {
          "output_type": "stream",
          "name": "stdout",
          "text": [
            "O fatorial de 5 é :120\n",
            "O fatorial de 5 é :120\n"
          ]
        }
      ]
    }
  ]
}