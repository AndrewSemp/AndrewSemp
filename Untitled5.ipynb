{
  "nbformat": 4,
  "nbformat_minor": 0,
  "metadata": {
    "colab": {
      "provenance": [],
      "authorship_tag": "ABX9TyO5secT/cy2HxIqWmkyWf0a",
      "include_colab_link": true
    },
    "kernelspec": {
      "name": "python3",
      "display_name": "Python 3"
    },
    "language_info": {
      "name": "python"
    }
  },
  "cells": [
    {
      "cell_type": "markdown",
      "metadata": {
        "id": "view-in-github",
        "colab_type": "text"
      },
      "source": [
        "<a href=\"https://colab.research.google.com/github/AndrewSemp/AndrewSemp/blob/main/Untitled5.ipynb\" target=\"_parent\"><img src=\"https://colab.research.google.com/assets/colab-badge.svg\" alt=\"Open In Colab\"/></a>"
      ]
    },
    {
      "cell_type": "code",
      "source": [
        "def ehPar(n):\n",
        "  r = (n%2==0)\n",
        "  return r\n",
        "\n",
        "\n",
        "def somar_par(lst) :\n",
        "  soma=0\n",
        "  for num in lst:\n",
        "    if(ehPar(num)):\n",
        "     soma=soma+num\n",
        "  return soma\n",
        "\n",
        "lista = [2,5,7,8,9,4,3,1,6]\n",
        "soma=somar_par(lista)\n",
        "print(f'O Somatório dos elementos pares da lista é:{soma}')\n",
        ""
      ],
      "metadata": {
        "colab": {
          "base_uri": "https://localhost:8080/"
        },
        "id": "3RpWLh9fo75K",
        "outputId": "54a0608e-0d87-4ae5-938c-6be858610d4c"
      },
      "execution_count": 15,
      "outputs": [
        {
          "output_type": "stream",
          "name": "stdout",
          "text": [
            "O Somatório dos elementos pares da lista é:20\n"
          ]
        }
      ]
    }
  ]
}